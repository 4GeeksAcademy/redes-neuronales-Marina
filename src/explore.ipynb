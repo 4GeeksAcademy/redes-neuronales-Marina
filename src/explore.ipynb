{
    "cells": [
        {
            "cell_type": "markdown",
            "metadata": {},
            "source": [
                "# Explore here"
            ]
        },
        {
            "cell_type": "code",
            "execution_count": 5,
            "metadata": {},
            "outputs": [],
            "source": [
                "import pandas as pd\n",
                "import numpy as np\n",
                "import matplotlib.pyplot as plt\n",
                "import requests\n",
                "from pickle import dump\n",
                "import os\n",
                "import opendatasets as od\n",
                "import zipfile\n",
                "import tensorflow as tf\n",
                "from keras.preprocessing import image\n",
                "from pathlib import Path\n",
                "from tensorflow.keras.callbacks import EarlyStopping, Callback\n",
                "from tensorflow.keras.optimizers import Adam, SGD\n",
                "import keras_tuner as kt\n",
                "from tensorflow.keras.preprocessing.image import ImageDataGenerator\n",
                "import shutil\n",
                "from keras.models import Sequential\n",
                "from keras.layers import Dense, Conv2D, MaxPool2D , Flatten, MaxPooling2D\n",
                "from keras.callbacks import ModelCheckpoint, EarlyStopping\n",
                "from keras.models import load_model\n",
                "from keras.losses import *\n",
                "from tensorflow.keras import *"
            ]
        },
        {
            "cell_type": "code",
            "execution_count": null,
            "metadata": {},
            "outputs": [],
            "source": [
                "# Assign the Kaggle data set URL into variable\n",
                "dataset = \"https://www.kaggle.com/c/dogs-vs-cats/data/dogs-vs-cats\"\n",
                "# Using opendatasets let's download the data sets\n",
                "od.download(dataset, data_dir=\"../data/raw\")"
            ]
        },
        {
            "cell_type": "code",
            "execution_count": null,
            "metadata": {},
            "outputs": [],
            "source": [
                "with zipfile.ZipFile(\"../data/raw/dogs-vs-cats/test1.zip\", 'r') as zip_ref:\n",
                "    zip_ref.extractall(\"../data/raw/dogs-vs-cats/\")"
            ]
        },
        {
            "cell_type": "code",
            "execution_count": null,
            "metadata": {},
            "outputs": [],
            "source": [
                "with zipfile.ZipFile(\"../data/raw/dogs-vs-cats/train.zip\", 'r') as zip_ref:\n",
                "    zip_ref.extractall(\"../data/raw/dogs-vs-cats/\")"
            ]
        },
        {
            "cell_type": "code",
            "execution_count": null,
            "metadata": {},
            "outputs": [],
            "source": [
                "os.makedirs(\"../data/raw/dogs-vs-cats/train/dog\")\n",
                "os.makedirs(\"../data/raw/dogs-vs-cats/train/cat\")"
            ]
        },
        {
            "cell_type": "code",
            "execution_count": null,
            "metadata": {},
            "outputs": [],
            "source": [
                "for im in Path(\"./data/raw/dogs-vs-cats/train\").glob('dog*.jpg'):\n",
                "    shutil.move(im, os.path.join(\"../data/raw/dogs-vs-cats/train/dog\", im.name))\n",
                "\n",
                "for im in Path(\"./data/raw/dogs-vs-cats/train\").glob('cat*.jpg'):\n",
                "    shutil.move(im, os.path.join(\"../data/raw/dogs-vs-cats/train/cat\", im.name))"
            ]
        },
        {
            "cell_type": "code",
            "execution_count": null,
            "metadata": {},
            "outputs": [],
            "source": [
                "for im in [x for x in os.listdir(\"../data/raw/dogs-vs-cats/train/dog\")][:9]:\n",
                "    i = 0\n",
                "    img = image.load_img(os.path.join(\"../data/raw/dogs-vs-cats/train/dog\", im))\n",
                "    img_array = image.img_to_array(img)\n",
                "    img_array /= 255.0  # Normalice los valores de los píxeles a [0, 1].\n",
                "    plt.subplot(3, 3, i + 1)\n",
                "    plt.imshow(img_array)\n",
                "    plt.title('Dog Image')\n",
                "    plt.axis('off')\n",
                "    i+=1\n",
                "\n",
                "    plt.tight_layout()\n",
                "    plt.show()"
            ]
        },
        {
            "cell_type": "code",
            "execution_count": null,
            "metadata": {},
            "outputs": [],
            "source": [
                "for im in [x for x in os.listdir(\"../data/raw/dogs-vs-cats/train/cat\")][:9]:\n",
                "    i = 0\n",
                "    img = image.load_img(os.path.join(\"../data/raw/dogs-vs-cats/train/cat\", im))\n",
                "    img_array = image.img_to_array(img)\n",
                "    img_array /= 255.0  # Normalice los valores de los píxeles a [0, 1].\n",
                "    plt.subplot(3, 3, i + 1)\n",
                "    plt.imshow(img_array)\n",
                "    plt.title('Cat Image')\n",
                "    plt.axis('off')\n",
                "    i+=1\n",
                "\n",
                "    plt.tight_layout()\n",
                "    plt.show()"
            ]
        },
        {
            "cell_type": "code",
            "execution_count": null,
            "metadata": {},
            "outputs": [],
            "source": [
                "len(os.listdir(\"../data/raw/dogs-vs-cats/train/dog\"))"
            ]
        },
        {
            "cell_type": "code",
            "execution_count": null,
            "metadata": {},
            "outputs": [],
            "source": [
                "len(os.listdir(\"../data/raw/dogs-vs-cats/train/cat\"))"
            ]
        },
        {
            "cell_type": "markdown",
            "metadata": {},
            "source": [
                "El dataset está balanceado."
            ]
        },
        {
            "cell_type": "code",
            "execution_count": null,
            "metadata": {},
            "outputs": [],
            "source": [
                "train_format = ImageDataGenerator(rescale=1.0/255, validation_split=0.20)\n",
                "test_format = ImageDataGenerator(rescale=1.0/255)\n",
                "\n",
                "# Generación de datos de entrenamiento\n",
                "train_data = train_format.flow_from_directory(\n",
                "    \"../data/raw/dogs-vs-cats/train\",\n",
                "    subset='training',\n",
                "    target_size = (200, 200),\n",
                "    color_mode='rgb',\n",
                "    class_mode='binary',\n",
                "    classes = [\"dog\", \"cat\"]\n",
                ")\n",
                "\n",
                "# Generación de datos de validación\n",
                "val_data = train_format.flow_from_directory(\n",
                "    \"../data/raw/dogs-vs-cats/train\",\n",
                "    subset='validation',\n",
                "    target_size = (200, 200),\n",
                "    color_mode='rgb',\n",
                "    class_mode='binary',\n",
                "    classes = [\"dog\", \"cat\"]\n",
                ")\n",
                "\n",
                "# Generación de datos de prueba\n",
                "test_data = test_format.flow_from_directory(\n",
                "    \"../data/raw/dogs-vs-cats/train\",\n",
                "    target_size = (200, 200),\n",
                "    color_mode='rgb',\n",
                "    class_mode='binary',\n",
                "    classes = [\"test1\"]\n",
                ")"
            ]
        },
        {
            "cell_type": "code",
            "execution_count": null,
            "metadata": {},
            "outputs": [],
            "source": [
                "'''model_b = Sequential()\n",
                "model_b.add(Conv2D(32, (3, 3), activation='relu', kernel_initializer='he_uniform', padding='same', input_shape=(200, 200, 3)))\n",
                "model_b.add(MaxPooling2D((2, 2)))\n",
                "model_b.add(Conv2D(64, (3, 3), activation='relu', kernel_initializer='he_uniform', padding='same'))\n",
                "model_b.add(MaxPooling2D((2, 2)))\n",
                "model_b.add(Conv2D(128, (3, 3), activation='relu', kernel_initializer='he_uniform', padding='same'))\n",
                "model_b.add(MaxPooling2D((2, 2)))\n",
                "model_b.add(Flatten())\n",
                "model_b.add(Dense(128, activation='relu', kernel_initializer='he_uniform'))\n",
                "model_b.add(Dense(1, activation='sigmoid'))\n",
                "\n",
                "# compile model\n",
                "opt = SGD(learning_rate=0.001, momentum=0.9)\n",
                "model_b.compile(optimizer=opt, loss='binary_crossentropy', metrics=['accuracy'])\n",
                "\n",
                "hist = model_b.fit(x=train_data, steps_per_epoch = 10, validation_data = val_data, validation_steps = 10, epochs = 10)'''"
            ]
        },
        {
            "cell_type": "code",
            "execution_count": null,
            "metadata": {},
            "outputs": [],
            "source": [
                "model_b = Sequential()\n",
                "model_b.add(Conv2D(32, (3, 3), activation='relu', kernel_initializer='he_uniform', padding='same', input_shape=(200, 200, 3)))\n",
                "model_b.add(MaxPooling2D((2, 2)))\n",
                "model_b.add(Conv2D(64, (3, 3), activation='relu', kernel_initializer='he_uniform', padding='same'))\n",
                "model_b.add(MaxPooling2D((2, 2)))\n",
                "model_b.add(Conv2D(128, (3, 3), activation='relu', kernel_initializer='he_uniform', padding='same'))\n",
                "model_b.add(MaxPooling2D((2, 2)))\n",
                "model_b.add(Flatten())\n",
                "model_b.add(Dense(128, activation='relu', kernel_initializer='he_uniform'))\n",
                "model_b.add(Dense(1, activation='sigmoid'))\n",
                "\n",
                "# compile model\n",
                "opt = SGD(learning_rate=0.001, momentum=0.9)\n",
                "model_b.compile(optimizer=opt, loss='binary_crossentropy', metrics=['accuracy'])\n",
                "\n",
                "hist = model_b.fit(x=train_data, batch_size = 64, validation_data = val_data, validation_batch_size = 64, epochs = 10)"
            ]
        },
        {
            "cell_type": "code",
            "execution_count": null,
            "metadata": {},
            "outputs": [],
            "source": [
                "model_b.save('/content/gdrive/MyDrive/Colab Notebooks/model_short_b64_e10.keras')"
            ]
        },
        {
            "cell_type": "code",
            "execution_count": null,
            "metadata": {},
            "outputs": [],
            "source": [
                "loaded_model = load_model('/content/gdrive/MyDrive/Colab Notebooks/model_short_b64_e10.keras')"
            ]
        },
        {
            "cell_type": "code",
            "execution_count": null,
            "metadata": {},
            "outputs": [],
            "source": [
                "checkpoint = ModelCheckpoint('/content/gdrive/MyDrive/Colab Notebooks/model_short_b64_e10.keras', monitor = \"val_accuracy\", verbose = 1, save_best_only = True, save_weights_only = False, mode = \"auto\")\n",
                "early = EarlyStopping(monitor = \"val_accuracy\", patience = 3, verbose = 1, mode = \"auto\")\n",
                "hist = loaded_model.fit(x=train_data, batch_size = 64, validation_data = val_data, validation_batch_size = 64, epochs = 10, callbacks = [checkpoint, early])"
            ]
        },
        {
            "cell_type": "code",
            "execution_count": null,
            "metadata": {},
            "outputs": [],
            "source": [
                "loaded_model.save('/content/gdrive/MyDrive/Colab Notebooks/model_short_b64_e10_with_cp.keras')"
            ]
        },
        {
            "cell_type": "code",
            "execution_count": null,
            "metadata": {},
            "outputs": [],
            "source": [
                "# Comprobar la exactitud de los datos\n",
                "\n",
                "# Trazar los resultados\n",
                "plt.plot(hist.history[\"accuracy\"])\n",
                "plt.plot(hist.history[\"val_accuracy\"])\n",
                "plt.plot(hist.history[\"loss\"])\n",
                "plt.plot(hist.history[\"val_loss\"])\n",
                "\n",
                "# Configurar el diseño del gráfico\n",
                "plt.title(\"Model Accuracy\")\n",
                "plt.ylabel(\"Accuracy\")\n",
                "plt.xlabel(\"Epoch\")\n",
                "plt.legend([\"Accuracy\", \"Validation Accuracy\", \"Loss\", \"Validation Loss\"])\n",
                "\n",
                "# Trazar\n",
                "plt.show()"
            ]
        },
        {
            "cell_type": "code",
            "execution_count": null,
            "metadata": {},
            "outputs": [],
            "source": [
                "# Comprobamos el modelo\n",
                "\n",
                "from keras.preprocessing import image\n",
                "from keras.models import load_model\n",
                "\n",
                "img = image.load_img(\"../data/raw/dogs-vs-cats/test1/1218.jpg\", target_size = (200, 200))\n",
                "img = np.asarray(img)\n",
                "plt.imshow(img)\n",
                "img = np.expand_dims(img, axis = 0)\n",
                "#saved_model = load_model(\"/content/gdrive/MyDrive/Colab Notebooks/model_short.keras\")\n",
                "output = loaded_model.predict(img)\n",
                "if output[0][0] < 0.5:\n",
                "    print(\"dog\")\n",
                "else:\n",
                "    print(\"cat\")"
            ]
        },
        {
            "cell_type": "markdown",
            "metadata": {},
            "source": [
                "Visualizando algunas de las imágenes con el predictor, observo que casos de perros con patrón blanco y negro suelen ser identificados como gatos (ya que es un patrón más común en gatos que en perros)."
            ]
        },
        {
            "cell_type": "markdown",
            "metadata": {},
            "source": [
                "Tras añadir checkpoints, ninguno de los dos se ejecuta, por lo que el modelo inicial se mantiene.\n",
                "Dejo comentados otro modelo, y el final pero con otros hiperparámetros comentados, como referencia, pero han resultado bastante peor en resultados según las gráficas."
            ]
        }
    ],
    "metadata": {
        "kernelspec": {
            "display_name": "Python 3",
            "language": "python",
            "name": "python3"
        },
        "language_info": {
            "codemirror_mode": {
                "name": "ipython",
                "version": 3
            },
            "file_extension": ".py",
            "mimetype": "text/x-python",
            "name": "python",
            "nbconvert_exporter": "python",
            "pygments_lexer": "ipython3",
            "version": "3.10.12"
        },
        "orig_nbformat": 4
    },
    "nbformat": 4,
    "nbformat_minor": 2
}
